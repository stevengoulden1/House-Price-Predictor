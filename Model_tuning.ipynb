{
 "cells": [
  {
   "cell_type": "markdown",
   "id": "115b9823",
   "metadata": {},
   "source": [
    "#### In the below, we are going to optimize our model, having arrived on feature set 7 in the previous notebook. "
   ]
  },
  {
   "cell_type": "code",
   "execution_count": 63,
   "id": "3a07d513",
   "metadata": {},
   "outputs": [],
   "source": [
    "import pandas as pd\n",
    "import numpy as np\n",
    "import seaborn as sns\n",
    "import matplotlib.pyplot as plt\n",
    "\n",
    "from sklearn.model_selection import train_test_split, cross_val_score\n",
    "from sklearn.preprocessing import PolynomialFeatures, StandardScaler\n",
    "from sklearn.metrics import r2_score\n",
    "from sklearn.linear_model import LinearRegression, Ridge, Lasso\n",
    "from sklearn.metrics import mean_squared_error"
   ]
  },
  {
   "cell_type": "code",
   "execution_count": 64,
   "id": "876929cf",
   "metadata": {},
   "outputs": [],
   "source": [
    "df_model7 = pd.read_csv('df_model7.csv')"
   ]
  },
  {
   "cell_type": "code",
   "execution_count": 65,
   "id": "901af729",
   "metadata": {},
   "outputs": [
    {
     "data": {
      "text/html": [
       "<div>\n",
       "<style scoped>\n",
       "    .dataframe tbody tr th:only-of-type {\n",
       "        vertical-align: middle;\n",
       "    }\n",
       "\n",
       "    .dataframe tbody tr th {\n",
       "        vertical-align: top;\n",
       "    }\n",
       "\n",
       "    .dataframe thead th {\n",
       "        text-align: right;\n",
       "    }\n",
       "</style>\n",
       "<table border=\"1\" class=\"dataframe\">\n",
       "  <thead>\n",
       "    <tr style=\"text-align: right;\">\n",
       "      <th></th>\n",
       "      <th>Unnamed: 0</th>\n",
       "      <th>Half Bath</th>\n",
       "      <th>Bsmt Full Bath</th>\n",
       "      <th>Wood Deck SF</th>\n",
       "      <th>BsmtFin SF 1</th>\n",
       "      <th>Fireplaces</th>\n",
       "      <th>Mas Vnr Area</th>\n",
       "      <th>Full Bath</th>\n",
       "      <th>Year Remod/Add</th>\n",
       "      <th>Year Built</th>\n",
       "      <th>...</th>\n",
       "      <th>Stone_ext_1st</th>\n",
       "      <th>Stucco_ext_1st</th>\n",
       "      <th>VinylSd_ext_1st</th>\n",
       "      <th>Wd Sdng_ext_1st</th>\n",
       "      <th>WdShing_ext_1st</th>\n",
       "      <th>Fa_heat</th>\n",
       "      <th>Gd_heat</th>\n",
       "      <th>Po_heat</th>\n",
       "      <th>TA_heat</th>\n",
       "      <th>Central Air</th>\n",
       "    </tr>\n",
       "  </thead>\n",
       "  <tbody>\n",
       "    <tr>\n",
       "      <th>0</th>\n",
       "      <td>0</td>\n",
       "      <td>1</td>\n",
       "      <td>0.0</td>\n",
       "      <td>0</td>\n",
       "      <td>533.0</td>\n",
       "      <td>0</td>\n",
       "      <td>289.0</td>\n",
       "      <td>2</td>\n",
       "      <td>2005</td>\n",
       "      <td>1976</td>\n",
       "      <td>...</td>\n",
       "      <td>0</td>\n",
       "      <td>0</td>\n",
       "      <td>0</td>\n",
       "      <td>0</td>\n",
       "      <td>0</td>\n",
       "      <td>0</td>\n",
       "      <td>0</td>\n",
       "      <td>0</td>\n",
       "      <td>0</td>\n",
       "      <td>1</td>\n",
       "    </tr>\n",
       "    <tr>\n",
       "      <th>1</th>\n",
       "      <td>1</td>\n",
       "      <td>1</td>\n",
       "      <td>1.0</td>\n",
       "      <td>0</td>\n",
       "      <td>637.0</td>\n",
       "      <td>1</td>\n",
       "      <td>132.0</td>\n",
       "      <td>2</td>\n",
       "      <td>1997</td>\n",
       "      <td>1996</td>\n",
       "      <td>...</td>\n",
       "      <td>0</td>\n",
       "      <td>0</td>\n",
       "      <td>1</td>\n",
       "      <td>0</td>\n",
       "      <td>0</td>\n",
       "      <td>0</td>\n",
       "      <td>0</td>\n",
       "      <td>0</td>\n",
       "      <td>0</td>\n",
       "      <td>1</td>\n",
       "    </tr>\n",
       "    <tr>\n",
       "      <th>2</th>\n",
       "      <td>2</td>\n",
       "      <td>0</td>\n",
       "      <td>1.0</td>\n",
       "      <td>0</td>\n",
       "      <td>731.0</td>\n",
       "      <td>0</td>\n",
       "      <td>0.0</td>\n",
       "      <td>1</td>\n",
       "      <td>2007</td>\n",
       "      <td>1953</td>\n",
       "      <td>...</td>\n",
       "      <td>0</td>\n",
       "      <td>0</td>\n",
       "      <td>1</td>\n",
       "      <td>0</td>\n",
       "      <td>0</td>\n",
       "      <td>0</td>\n",
       "      <td>0</td>\n",
       "      <td>0</td>\n",
       "      <td>1</td>\n",
       "      <td>1</td>\n",
       "    </tr>\n",
       "    <tr>\n",
       "      <th>3</th>\n",
       "      <td>3</td>\n",
       "      <td>1</td>\n",
       "      <td>0.0</td>\n",
       "      <td>100</td>\n",
       "      <td>0.0</td>\n",
       "      <td>0</td>\n",
       "      <td>0.0</td>\n",
       "      <td>2</td>\n",
       "      <td>2007</td>\n",
       "      <td>2006</td>\n",
       "      <td>...</td>\n",
       "      <td>0</td>\n",
       "      <td>0</td>\n",
       "      <td>1</td>\n",
       "      <td>0</td>\n",
       "      <td>0</td>\n",
       "      <td>0</td>\n",
       "      <td>1</td>\n",
       "      <td>0</td>\n",
       "      <td>0</td>\n",
       "      <td>1</td>\n",
       "    </tr>\n",
       "    <tr>\n",
       "      <th>4</th>\n",
       "      <td>4</td>\n",
       "      <td>0</td>\n",
       "      <td>0.0</td>\n",
       "      <td>0</td>\n",
       "      <td>0.0</td>\n",
       "      <td>0</td>\n",
       "      <td>0.0</td>\n",
       "      <td>2</td>\n",
       "      <td>1993</td>\n",
       "      <td>1900</td>\n",
       "      <td>...</td>\n",
       "      <td>0</td>\n",
       "      <td>0</td>\n",
       "      <td>0</td>\n",
       "      <td>1</td>\n",
       "      <td>0</td>\n",
       "      <td>0</td>\n",
       "      <td>0</td>\n",
       "      <td>0</td>\n",
       "      <td>1</td>\n",
       "      <td>1</td>\n",
       "    </tr>\n",
       "  </tbody>\n",
       "</table>\n",
       "<p>5 rows × 91 columns</p>\n",
       "</div>"
      ],
      "text/plain": [
       "   Unnamed: 0  Half Bath  Bsmt Full Bath  Wood Deck SF  BsmtFin SF 1  \\\n",
       "0           0          1             0.0             0         533.0   \n",
       "1           1          1             1.0             0         637.0   \n",
       "2           2          0             1.0             0         731.0   \n",
       "3           3          1             0.0           100           0.0   \n",
       "4           4          0             0.0             0           0.0   \n",
       "\n",
       "   Fireplaces  Mas Vnr Area  Full Bath  Year Remod/Add  Year Built  ...  \\\n",
       "0           0         289.0          2            2005        1976  ...   \n",
       "1           1         132.0          2            1997        1996  ...   \n",
       "2           0           0.0          1            2007        1953  ...   \n",
       "3           0           0.0          2            2007        2006  ...   \n",
       "4           0           0.0          2            1993        1900  ...   \n",
       "\n",
       "   Stone_ext_1st  Stucco_ext_1st  VinylSd_ext_1st  Wd Sdng_ext_1st  \\\n",
       "0              0               0                0                0   \n",
       "1              0               0                1                0   \n",
       "2              0               0                1                0   \n",
       "3              0               0                1                0   \n",
       "4              0               0                0                1   \n",
       "\n",
       "   WdShing_ext_1st  Fa_heat  Gd_heat  Po_heat  TA_heat  Central Air  \n",
       "0                0        0        0        0        0            1  \n",
       "1                0        0        0        0        0            1  \n",
       "2                0        0        0        0        1            1  \n",
       "3                0        0        1        0        0            1  \n",
       "4                0        0        0        0        1            1  \n",
       "\n",
       "[5 rows x 91 columns]"
      ]
     },
     "execution_count": 65,
     "metadata": {},
     "output_type": "execute_result"
    }
   ],
   "source": [
    "df_model7.head()"
   ]
  },
  {
   "cell_type": "markdown",
   "id": "7c59e8b3",
   "metadata": {},
   "source": [
    "#### As a reminder, the best score was from Ridge. We will now optimize hyperparameters to see if we can improve on that."
   ]
  },
  {
   "cell_type": "code",
   "execution_count": 67,
   "id": "bc191739",
   "metadata": {},
   "outputs": [],
   "source": [
    "X = df_model7.drop(columns = 'SalePrice')\n",
    "y = df_model7['SalePrice']\n",
    "\n",
    "X_train, X_test, y_train, y_test = train_test_split(X, y, random_state=42, test_size=0.25)\n",
    "\n",
    "ss = StandardScaler()\n",
    "X_train = ss.fit_transform(X_train)\n",
    "X_test = ss.transform(X_test)\n"
   ]
  },
  {
   "cell_type": "markdown",
   "id": "fc3d080c",
   "metadata": {},
   "source": [
    "#### First, let's optimize our Ridge regression by using a range of values for alpha, from 1 to 10^5. We will use cross validation to find the best performing alpha value and select that as our model."
   ]
  },
  {
   "cell_type": "code",
   "execution_count": 68,
   "id": "5a41c8e0",
   "metadata": {},
   "outputs": [],
   "source": [
    "from sklearn.linear_model import RidgeCV\n",
    "r_alphas = np.logspace(0,5,100)"
   ]
  },
  {
   "cell_type": "code",
   "execution_count": 69,
   "id": "ccfef04e",
   "metadata": {},
   "outputs": [],
   "source": [
    "ridge_model = RidgeCV(alphas=r_alphas, cv=5)\n",
    "ridge_model = ridge_model.fit(X_train, y_train)"
   ]
  },
  {
   "cell_type": "code",
   "execution_count": 70,
   "id": "59ebf67e",
   "metadata": {},
   "outputs": [
    {
     "data": {
      "text/plain": [
       "5.094138014816379"
      ]
     },
     "execution_count": 70,
     "metadata": {},
     "output_type": "execute_result"
    }
   ],
   "source": [
    "ridge_model.alpha_"
   ]
  },
  {
   "cell_type": "code",
   "execution_count": 71,
   "id": "83b9765f",
   "metadata": {},
   "outputs": [
    {
     "name": "stdout",
     "output_type": "stream",
     "text": [
      "Train score: 0.9125389831490263, Test score: 0.9033648581090231, RMSE: 22788.41690137969\n"
     ]
    }
   ],
   "source": [
    "ridge_model.fit(X_train, y_train)\n",
    "predictions = ridge_model.predict(X_train)\n",
    "rmse = (mean_squared_error(y_train, predictions)**0.5)\n",
    "\n",
    "print(f'Train score: {ridge_model.score(X_train, y_train)}, Test score: {ridge_model.score(X_test, y_test)}, RMSE: {rmse}')"
   ]
  },
  {
   "cell_type": "code",
   "execution_count": 75,
   "id": "7d039c62",
   "metadata": {},
   "outputs": [
    {
     "data": {
      "text/plain": [
       "0.8940327367656368"
      ]
     },
     "execution_count": 75,
     "metadata": {},
     "output_type": "execute_result"
    }
   ],
   "source": [
    "cv_ridge = cross_val_score (ridge_model, X_train, y_train, cv = 5).mean()\n",
    "cv_ridge"
   ]
  },
  {
   "cell_type": "markdown",
   "id": "19eb7b5b",
   "metadata": {},
   "source": [
    "#### This results in a slight worsening in Ridge's test score. Let's take a similar approach for Lasso."
   ]
  },
  {
   "cell_type": "code",
   "execution_count": 77,
   "id": "908fa262",
   "metadata": {},
   "outputs": [],
   "source": [
    "from sklearn.linear_model import LassoCV\n",
    "l_alphas = np.logspace(-3, 0, 100) \n",
    "lasso_model = LassoCV(alphas=l_alphas, cv=5, max_iter=5000)\n",
    "lasso_model = lasso_model.fit(X_train, y_train)"
   ]
  },
  {
   "cell_type": "code",
   "execution_count": 78,
   "id": "1e35b314",
   "metadata": {},
   "outputs": [
    {
     "data": {
      "text/plain": [
       "1.0"
      ]
     },
     "execution_count": 78,
     "metadata": {},
     "output_type": "execute_result"
    }
   ],
   "source": [
    "lasso_model.alpha_"
   ]
  },
  {
   "cell_type": "code",
   "execution_count": 79,
   "id": "0f903b37",
   "metadata": {},
   "outputs": [
    {
     "name": "stdout",
     "output_type": "stream",
     "text": [
      "Train score: 0.9126605098664707, Test score: 0.9024327107877603, RMSE: 22772.579192830086\n"
     ]
    }
   ],
   "source": [
    "lasso_model.fit(X_train, y_train)\n",
    "predictions = lasso_model.predict(X_train)\n",
    "rmse = (mean_squared_error(y_train, predictions)**0.5)\n",
    "\n",
    "print(f'Train score: {lasso_model.score(X_train, y_train)}, Test score: {lasso_model.score(X_test, y_test)}, RMSE: {rmse}')"
   ]
  },
  {
   "cell_type": "code",
   "execution_count": 80,
   "id": "928fb20a",
   "metadata": {},
   "outputs": [
    {
     "data": {
      "text/plain": [
       "0.8940466921267584"
      ]
     },
     "execution_count": 80,
     "metadata": {},
     "output_type": "execute_result"
    }
   ],
   "source": [
    "cv_lasso = cross_val_score (lasso_model, X_train, y_train, cv = 5).mean()\n",
    "cv_lasso"
   ]
  },
  {
   "cell_type": "markdown",
   "id": "18024f8d",
   "metadata": {},
   "source": [
    "#### Again, this leads to a slight improvement in the test score for Lasso. On Cross validation of these models, the scores are extremely similar, with Lasso fractionally ahead. So we will use optimised Lasso as our final model."
   ]
  },
  {
   "cell_type": "markdown",
   "id": "2386fe75",
   "metadata": {},
   "source": [
    "#### Using this model, let's examine which are the most important features for determining Sale Price. We will build a dataframe of the features and rank by absolute correlation and coefficient."
   ]
  },
  {
   "cell_type": "code",
   "execution_count": 50,
   "id": "edabe9b5",
   "metadata": {
    "scrolled": false
   },
   "outputs": [
    {
     "data": {
      "text/plain": [
       "array([   170.63449229,   1411.88841314,   1678.52486985,   1219.9397164 ,\n",
       "         9936.42821588,   3415.90429521,   2374.55942014,   -281.0555395 ,\n",
       "         5079.23613997,   9538.02491674,   6535.11274681,   2434.95488957,\n",
       "         4927.75191588,  22689.79155768,  12286.62177124,   -369.05239724,\n",
       "         -850.50917358,  -5221.2323417 ,  -1151.89447658,  -7622.58468561,\n",
       "        -1071.02988433,  -7935.86006078,  -6698.72517407,   -181.25812176,\n",
       "         2949.67512329,  -5726.86056402,      0.        ,  -3074.40272679,\n",
       "        -5446.73397847, -11286.73322377,    -61.36180774,  -6263.54010628,\n",
       "         -736.59879146,   2608.0183109 ,  -9540.27663468,  -3389.07749618,\n",
       "        -6279.09096913,  -6625.85526945,  -2943.9876294 ,   5020.60579503,\n",
       "        -3284.3635311 ,  -1922.10236157,   1397.80073638,    217.46182076,\n",
       "          998.3083228 ,   -402.81193039,  -2092.35919896,    354.21990908,\n",
       "         -551.84079453,   -401.42515921,    109.36720021,  -3599.81168869,\n",
       "        -9673.80767746,  -1398.78448647,  -8825.57639193,  -1575.38146566,\n",
       "        -2340.93642893,  -6626.14960457, -25612.66855985, -30012.19872361,\n",
       "         3410.73150451,    665.65647757,   2025.95356181,    206.74641551,\n",
       "         2953.63771668,   3705.85074958,  -1464.0185813 ,   -868.68778332,\n",
       "          300.86268109,  -1865.83583822,   -134.0198763 ,    -59.43953135,\n",
       "            0.        ,  -1535.43229762,   3563.67619362,    184.21498195,\n",
       "         2230.08613072,  -1314.97509836,   -527.59830848,   1040.12090868,\n",
       "         -220.84629874,     46.22486942,    144.29190086,      0.        ,\n",
       "          -93.18198143,    300.45365282,   -602.3099727 ,  -1047.0371638 ,\n",
       "         -520.11456879,  -2077.91094414,    465.65173973])"
      ]
     },
     "execution_count": 50,
     "metadata": {},
     "output_type": "execute_result"
    }
   ],
   "source": [
    "lasso_model.coef_"
   ]
  },
  {
   "cell_type": "code",
   "execution_count": 29,
   "id": "c5e2ffef",
   "metadata": {},
   "outputs": [],
   "source": [
    "lasso_coef_list = []\n",
    "for i in lasso_model.coef_:\n",
    "    lasso_coef_list.append(i)"
   ]
  },
  {
   "cell_type": "code",
   "execution_count": 30,
   "id": "a8565718",
   "metadata": {},
   "outputs": [
    {
     "data": {
      "text/plain": [
       "91"
      ]
     },
     "execution_count": 30,
     "metadata": {},
     "output_type": "execute_result"
    }
   ],
   "source": [
    "len(lasso_coef_list)"
   ]
  },
  {
   "cell_type": "code",
   "execution_count": 91,
   "id": "2dd1d61e",
   "metadata": {},
   "outputs": [
    {
     "data": {
      "text/plain": [
       "Index(['Unnamed: 0', 'Half Bath', 'Bsmt Full Bath', 'Wood Deck SF',\n",
       "       'BsmtFin SF 1', 'Fireplaces', 'Mas Vnr Area', 'Full Bath',\n",
       "       'Year Remod/Add', 'Year Built', 'Total Bsmt SF', 'Garage Cars',\n",
       "       'Garage Area', 'Gr Liv Area', 'Overall Qual', 'SalePrice',\n",
       "       'Blueste_neigh', 'BrDale_neigh', 'BrkSide_neigh', 'ClearCr_neigh',\n",
       "       'CollgCr_neigh', 'Crawfor_neigh', 'Edwards_neigh', 'Gilbert_neigh',\n",
       "       'Greens_neigh', 'GrnHill_neigh', 'IDOTRR_neigh', 'Landmrk_neigh',\n",
       "       'MeadowV_neigh', 'Mitchel_neigh', 'NAmes_neigh', 'NPkVill_neigh',\n",
       "       'NWAmes_neigh', 'NoRidge_neigh', 'NridgHt_neigh', 'OldTown_neigh',\n",
       "       'SWISU_neigh', 'Sawyer_neigh', 'SawyerW_neigh', 'Somerst_neigh',\n",
       "       'StoneBr_neigh', 'Timber_neigh', 'Veenker_neigh', '30_subclass',\n",
       "       '40_subclass', '45_subclass', '50_subclass', '60_subclass',\n",
       "       '70_subclass', '75_subclass', '80_subclass', '85_subclass',\n",
       "       '90_subclass', '120_subclass', '150_subclass', '160_subclass',\n",
       "       '180_subclass', '190_subclass', 'Fa_exter_qual', 'Gd_exter_qual',\n",
       "       'TA_exter_qual', 'Attchd_gar_type', 'Basment_gar_type',\n",
       "       'BuiltIn_gar_type', 'CarPort_gar_type', 'Detchd_gar_type',\n",
       "       'None_gar_type', 'Gable_roof', 'Gambrel_roof', 'Hip_roof',\n",
       "       'Mansard_roof', 'Shed_roof', 'AsphShn_ext_1st', 'BrkComm_ext_1st',\n",
       "       'BrkFace_ext_1st', 'CBlock_ext_1st', 'CemntBd_ext_1st',\n",
       "       'HdBoard_ext_1st', 'ImStucc_ext_1st', 'MetalSd_ext_1st',\n",
       "       'Plywood_ext_1st', 'Stone_ext_1st', 'Stucco_ext_1st', 'VinylSd_ext_1st',\n",
       "       'Wd Sdng_ext_1st', 'WdShing_ext_1st', 'Fa_heat', 'Gd_heat', 'Po_heat',\n",
       "       'TA_heat', 'Central Air'],\n",
       "      dtype='object')"
      ]
     },
     "execution_count": 91,
     "metadata": {},
     "output_type": "execute_result"
    }
   ],
   "source": [
    "df_model7.columns"
   ]
  },
  {
   "cell_type": "code",
   "execution_count": 31,
   "id": "73778d22",
   "metadata": {},
   "outputs": [
    {
     "data": {
      "text/plain": [
       "91"
      ]
     },
     "execution_count": 31,
     "metadata": {},
     "output_type": "execute_result"
    }
   ],
   "source": [
    "cols = df_model7.drop(columns = 'SalePrice').columns\n",
    "len(cols)"
   ]
  },
  {
   "cell_type": "code",
   "execution_count": 32,
   "id": "28293886",
   "metadata": {},
   "outputs": [
    {
     "data": {
      "text/plain": [
       "[('Unnamed: 0', 170.63449229224602),\n",
       " ('Half Bath', 1411.8884131374416),\n",
       " ('Bsmt Full Bath', 1678.5248698503437),\n",
       " ('Wood Deck SF', 1219.9397163989436),\n",
       " ('BsmtFin SF 1', 9936.428215880132)]"
      ]
     },
     "execution_count": 32,
     "metadata": {},
     "output_type": "execute_result"
    }
   ],
   "source": [
    "list_of_tuples = list(zip(cols, lasso_coef_list))\n",
    "list_of_tuples[:5]"
   ]
  },
  {
   "cell_type": "code",
   "execution_count": 89,
   "id": "a79f5544",
   "metadata": {},
   "outputs": [
    {
     "data": {
      "text/html": [
       "<div>\n",
       "<style scoped>\n",
       "    .dataframe tbody tr th:only-of-type {\n",
       "        vertical-align: middle;\n",
       "    }\n",
       "\n",
       "    .dataframe tbody tr th {\n",
       "        vertical-align: top;\n",
       "    }\n",
       "\n",
       "    .dataframe thead th {\n",
       "        text-align: right;\n",
       "    }\n",
       "</style>\n",
       "<table border=\"1\" class=\"dataframe\">\n",
       "  <thead>\n",
       "    <tr style=\"text-align: right;\">\n",
       "      <th></th>\n",
       "      <th>Feature</th>\n",
       "      <th>Coef</th>\n",
       "    </tr>\n",
       "  </thead>\n",
       "  <tbody>\n",
       "    <tr>\n",
       "      <th>0</th>\n",
       "      <td>Unnamed: 0</td>\n",
       "      <td>170.634492</td>\n",
       "    </tr>\n",
       "    <tr>\n",
       "      <th>1</th>\n",
       "      <td>Half Bath</td>\n",
       "      <td>1411.888413</td>\n",
       "    </tr>\n",
       "    <tr>\n",
       "      <th>2</th>\n",
       "      <td>Bsmt Full Bath</td>\n",
       "      <td>1678.524870</td>\n",
       "    </tr>\n",
       "    <tr>\n",
       "      <th>3</th>\n",
       "      <td>Wood Deck SF</td>\n",
       "      <td>1219.939716</td>\n",
       "    </tr>\n",
       "    <tr>\n",
       "      <th>4</th>\n",
       "      <td>BsmtFin SF 1</td>\n",
       "      <td>9936.428216</td>\n",
       "    </tr>\n",
       "    <tr>\n",
       "      <th>5</th>\n",
       "      <td>Fireplaces</td>\n",
       "      <td>3415.904295</td>\n",
       "    </tr>\n",
       "    <tr>\n",
       "      <th>6</th>\n",
       "      <td>Mas Vnr Area</td>\n",
       "      <td>2374.559420</td>\n",
       "    </tr>\n",
       "    <tr>\n",
       "      <th>7</th>\n",
       "      <td>Full Bath</td>\n",
       "      <td>-281.055539</td>\n",
       "    </tr>\n",
       "    <tr>\n",
       "      <th>8</th>\n",
       "      <td>Year Remod/Add</td>\n",
       "      <td>5079.236140</td>\n",
       "    </tr>\n",
       "    <tr>\n",
       "      <th>9</th>\n",
       "      <td>Year Built</td>\n",
       "      <td>9538.024917</td>\n",
       "    </tr>\n",
       "    <tr>\n",
       "      <th>10</th>\n",
       "      <td>Total Bsmt SF</td>\n",
       "      <td>6535.112747</td>\n",
       "    </tr>\n",
       "    <tr>\n",
       "      <th>11</th>\n",
       "      <td>Garage Cars</td>\n",
       "      <td>2434.954890</td>\n",
       "    </tr>\n",
       "    <tr>\n",
       "      <th>12</th>\n",
       "      <td>Garage Area</td>\n",
       "      <td>4927.751916</td>\n",
       "    </tr>\n",
       "    <tr>\n",
       "      <th>13</th>\n",
       "      <td>Gr Liv Area</td>\n",
       "      <td>22689.791558</td>\n",
       "    </tr>\n",
       "    <tr>\n",
       "      <th>14</th>\n",
       "      <td>Overall Qual</td>\n",
       "      <td>12286.621771</td>\n",
       "    </tr>\n",
       "    <tr>\n",
       "      <th>15</th>\n",
       "      <td>Blueste_neigh</td>\n",
       "      <td>-369.052397</td>\n",
       "    </tr>\n",
       "    <tr>\n",
       "      <th>16</th>\n",
       "      <td>BrDale_neigh</td>\n",
       "      <td>-850.509174</td>\n",
       "    </tr>\n",
       "    <tr>\n",
       "      <th>17</th>\n",
       "      <td>BrkSide_neigh</td>\n",
       "      <td>-5221.232342</td>\n",
       "    </tr>\n",
       "    <tr>\n",
       "      <th>18</th>\n",
       "      <td>ClearCr_neigh</td>\n",
       "      <td>-1151.894477</td>\n",
       "    </tr>\n",
       "    <tr>\n",
       "      <th>19</th>\n",
       "      <td>CollgCr_neigh</td>\n",
       "      <td>-7622.584686</td>\n",
       "    </tr>\n",
       "  </tbody>\n",
       "</table>\n",
       "</div>"
      ],
      "text/plain": [
       "           Feature          Coef\n",
       "0       Unnamed: 0    170.634492\n",
       "1        Half Bath   1411.888413\n",
       "2   Bsmt Full Bath   1678.524870\n",
       "3     Wood Deck SF   1219.939716\n",
       "4     BsmtFin SF 1   9936.428216\n",
       "5       Fireplaces   3415.904295\n",
       "6     Mas Vnr Area   2374.559420\n",
       "7        Full Bath   -281.055539\n",
       "8   Year Remod/Add   5079.236140\n",
       "9       Year Built   9538.024917\n",
       "10   Total Bsmt SF   6535.112747\n",
       "11     Garage Cars   2434.954890\n",
       "12     Garage Area   4927.751916\n",
       "13     Gr Liv Area  22689.791558\n",
       "14    Overall Qual  12286.621771\n",
       "15   Blueste_neigh   -369.052397\n",
       "16    BrDale_neigh   -850.509174\n",
       "17   BrkSide_neigh  -5221.232342\n",
       "18   ClearCr_neigh  -1151.894477\n",
       "19   CollgCr_neigh  -7622.584686"
      ]
     },
     "execution_count": 89,
     "metadata": {},
     "output_type": "execute_result"
    }
   ],
   "source": [
    "df_coefs_correls = pd.DataFrame(list_of_tuples, columns = ['Feature', 'Coef'])\n",
    "df_coefs_correls.head(20)"
   ]
  },
  {
   "cell_type": "code",
   "execution_count": 52,
   "id": "c22338e0",
   "metadata": {},
   "outputs": [
    {
     "data": {
      "text/plain": [
       "Unnamed: 0        0.027283\n",
       "Half Bath         0.276884\n",
       "Bsmt Full Bath    0.291705\n",
       "Wood Deck SF      0.307249\n",
       "BsmtFin SF 1      0.460716\n",
       "                    ...   \n",
       "Fa_heat          -0.150958\n",
       "Gd_heat          -0.118021\n",
       "Po_heat          -0.055490\n",
       "TA_heat          -0.345901\n",
       "Central Air       0.282011\n",
       "Name: SalePrice, Length: 92, dtype: float64"
      ]
     },
     "execution_count": 52,
     "metadata": {},
     "output_type": "execute_result"
    }
   ],
   "source": [
    "correls = df_model7.corr()['SalePrice']\n",
    "correls"
   ]
  },
  {
   "cell_type": "code",
   "execution_count": 53,
   "id": "4bf78400",
   "metadata": {},
   "outputs": [
    {
     "data": {
      "text/plain": [
       "92"
      ]
     },
     "execution_count": 53,
     "metadata": {},
     "output_type": "execute_result"
    }
   ],
   "source": [
    "len(correls)"
   ]
  },
  {
   "cell_type": "code",
   "execution_count": 54,
   "id": "996496a6",
   "metadata": {},
   "outputs": [
    {
     "data": {
      "text/plain": [
       "1.0"
      ]
     },
     "execution_count": 54,
     "metadata": {},
     "output_type": "execute_result"
    }
   ],
   "source": [
    "correls['SalePrice']"
   ]
  },
  {
   "cell_type": "code",
   "execution_count": 55,
   "id": "315e297c",
   "metadata": {},
   "outputs": [
    {
     "data": {
      "text/plain": [
       "[0.027283039586749092,\n",
       " 0.27688371710377097,\n",
       " 0.29170491504429685,\n",
       " 0.30724917687798675,\n",
       " 0.4607156187950378]"
      ]
     },
     "execution_count": 55,
     "metadata": {},
     "output_type": "execute_result"
    }
   ],
   "source": [
    "corr_list = []\n",
    "for i in correls:\n",
    "    corr_list.append(i)\n",
    "corr_list[:5]"
   ]
  },
  {
   "cell_type": "code",
   "execution_count": 56,
   "id": "b856b510",
   "metadata": {},
   "outputs": [
    {
     "data": {
      "text/plain": [
       "[0.027283039586749092,\n",
       " 0.27688371710377097,\n",
       " 0.29170491504429685,\n",
       " 0.30724917687798675,\n",
       " 0.4607156187950378]"
      ]
     },
     "execution_count": 56,
     "metadata": {},
     "output_type": "execute_result"
    }
   ],
   "source": [
    "#Now removing the correlation to 'SalePrice' so that we can append to the coefficients list\n",
    "corr_list_ex_price = []\n",
    "for i in range(0, len(corr_list)):\n",
    "    if corr_list[i] !=1:\n",
    "        corr_list_ex_price.append(corr_list[i])\n",
    "\n",
    "corr_list_ex_price[:5]"
   ]
  },
  {
   "cell_type": "code",
   "execution_count": 57,
   "id": "78ee7a6a",
   "metadata": {},
   "outputs": [
    {
     "data": {
      "text/plain": [
       "91"
      ]
     },
     "execution_count": 57,
     "metadata": {},
     "output_type": "execute_result"
    }
   ],
   "source": [
    "len(corr_list_ex_price)"
   ]
  },
  {
   "cell_type": "code",
   "execution_count": 58,
   "id": "04379f18",
   "metadata": {},
   "outputs": [],
   "source": [
    "df_coefs_correls['Corr'] = corr_list_ex_price"
   ]
  },
  {
   "cell_type": "code",
   "execution_count": 84,
   "id": "a93ad7f7",
   "metadata": {},
   "outputs": [
    {
     "data": {
      "text/html": [
       "<div>\n",
       "<style scoped>\n",
       "    .dataframe tbody tr th:only-of-type {\n",
       "        vertical-align: middle;\n",
       "    }\n",
       "\n",
       "    .dataframe tbody tr th {\n",
       "        vertical-align: top;\n",
       "    }\n",
       "\n",
       "    .dataframe thead th {\n",
       "        text-align: right;\n",
       "    }\n",
       "</style>\n",
       "<table border=\"1\" class=\"dataframe\">\n",
       "  <thead>\n",
       "    <tr style=\"text-align: right;\">\n",
       "      <th></th>\n",
       "      <th>Feature</th>\n",
       "      <th>Coef</th>\n",
       "      <th>Corr</th>\n",
       "    </tr>\n",
       "  </thead>\n",
       "  <tbody>\n",
       "    <tr>\n",
       "      <th>13</th>\n",
       "      <td>Gr Liv Area</td>\n",
       "      <td>22689.791558</td>\n",
       "      <td>0.708777</td>\n",
       "    </tr>\n",
       "    <tr>\n",
       "      <th>14</th>\n",
       "      <td>Overall Qual</td>\n",
       "      <td>12286.621771</td>\n",
       "      <td>0.807849</td>\n",
       "    </tr>\n",
       "    <tr>\n",
       "      <th>4</th>\n",
       "      <td>BsmtFin SF 1</td>\n",
       "      <td>9936.428216</td>\n",
       "      <td>0.460716</td>\n",
       "    </tr>\n",
       "    <tr>\n",
       "      <th>9</th>\n",
       "      <td>Year Built</td>\n",
       "      <td>9538.024917</td>\n",
       "      <td>0.593996</td>\n",
       "    </tr>\n",
       "    <tr>\n",
       "      <th>10</th>\n",
       "      <td>Total Bsmt SF</td>\n",
       "      <td>6535.112747</td>\n",
       "      <td>0.668005</td>\n",
       "    </tr>\n",
       "    <tr>\n",
       "      <th>8</th>\n",
       "      <td>Year Remod/Add</td>\n",
       "      <td>5079.236140</td>\n",
       "      <td>0.558451</td>\n",
       "    </tr>\n",
       "    <tr>\n",
       "      <th>39</th>\n",
       "      <td>StoneBr_neigh</td>\n",
       "      <td>5020.605795</td>\n",
       "      <td>0.240962</td>\n",
       "    </tr>\n",
       "    <tr>\n",
       "      <th>12</th>\n",
       "      <td>Garage Area</td>\n",
       "      <td>4927.751916</td>\n",
       "      <td>0.656497</td>\n",
       "    </tr>\n",
       "    <tr>\n",
       "      <th>65</th>\n",
       "      <td>None_gar_type</td>\n",
       "      <td>3705.850750</td>\n",
       "      <td>-0.237658</td>\n",
       "    </tr>\n",
       "    <tr>\n",
       "      <th>74</th>\n",
       "      <td>BrkFace_ext_1st</td>\n",
       "      <td>3563.676194</td>\n",
       "      <td>0.013114</td>\n",
       "    </tr>\n",
       "    <tr>\n",
       "      <th>5</th>\n",
       "      <td>Fireplaces</td>\n",
       "      <td>3415.904295</td>\n",
       "      <td>0.471008</td>\n",
       "    </tr>\n",
       "    <tr>\n",
       "      <th>60</th>\n",
       "      <td>Attchd_gar_type</td>\n",
       "      <td>3410.731505</td>\n",
       "      <td>0.376915</td>\n",
       "    </tr>\n",
       "    <tr>\n",
       "      <th>64</th>\n",
       "      <td>Detchd_gar_type</td>\n",
       "      <td>2953.637717</td>\n",
       "      <td>-0.380575</td>\n",
       "    </tr>\n",
       "    <tr>\n",
       "      <th>24</th>\n",
       "      <td>GrnHill_neigh</td>\n",
       "      <td>2949.675123</td>\n",
       "      <td>0.040843</td>\n",
       "    </tr>\n",
       "    <tr>\n",
       "      <th>33</th>\n",
       "      <td>NridgHt_neigh</td>\n",
       "      <td>2608.018311</td>\n",
       "      <td>0.463221</td>\n",
       "    </tr>\n",
       "    <tr>\n",
       "      <th>11</th>\n",
       "      <td>Garage Cars</td>\n",
       "      <td>2434.954890</td>\n",
       "      <td>0.651267</td>\n",
       "    </tr>\n",
       "    <tr>\n",
       "      <th>6</th>\n",
       "      <td>Mas Vnr Area</td>\n",
       "      <td>2374.559420</td>\n",
       "      <td>0.502671</td>\n",
       "    </tr>\n",
       "    <tr>\n",
       "      <th>76</th>\n",
       "      <td>CemntBd_ext_1st</td>\n",
       "      <td>2230.086131</td>\n",
       "      <td>0.154823</td>\n",
       "    </tr>\n",
       "    <tr>\n",
       "      <th>62</th>\n",
       "      <td>BuiltIn_gar_type</td>\n",
       "      <td>2025.953562</td>\n",
       "      <td>0.208354</td>\n",
       "    </tr>\n",
       "    <tr>\n",
       "      <th>2</th>\n",
       "      <td>Bsmt Full Bath</td>\n",
       "      <td>1678.524870</td>\n",
       "      <td>0.291705</td>\n",
       "    </tr>\n",
       "  </tbody>\n",
       "</table>\n",
       "</div>"
      ],
      "text/plain": [
       "             Feature          Coef      Corr\n",
       "13       Gr Liv Area  22689.791558  0.708777\n",
       "14      Overall Qual  12286.621771  0.807849\n",
       "4       BsmtFin SF 1   9936.428216  0.460716\n",
       "9         Year Built   9538.024917  0.593996\n",
       "10     Total Bsmt SF   6535.112747  0.668005\n",
       "8     Year Remod/Add   5079.236140  0.558451\n",
       "39     StoneBr_neigh   5020.605795  0.240962\n",
       "12       Garage Area   4927.751916  0.656497\n",
       "65     None_gar_type   3705.850750 -0.237658\n",
       "74   BrkFace_ext_1st   3563.676194  0.013114\n",
       "5         Fireplaces   3415.904295  0.471008\n",
       "60   Attchd_gar_type   3410.731505  0.376915\n",
       "64   Detchd_gar_type   2953.637717 -0.380575\n",
       "24     GrnHill_neigh   2949.675123  0.040843\n",
       "33     NridgHt_neigh   2608.018311  0.463221\n",
       "11       Garage Cars   2434.954890  0.651267\n",
       "6       Mas Vnr Area   2374.559420  0.502671\n",
       "76   CemntBd_ext_1st   2230.086131  0.154823\n",
       "62  BuiltIn_gar_type   2025.953562  0.208354\n",
       "2     Bsmt Full Bath   1678.524870  0.291705"
      ]
     },
     "execution_count": 84,
     "metadata": {},
     "output_type": "execute_result"
    }
   ],
   "source": [
    "df_coefs_correls_coefsort = df_coefs_correls.sort_values(by= 'Coef', ascending=False)\n",
    "df_coefs_correls_coefsort.head(20)\n",
    "\n"
   ]
  },
  {
   "cell_type": "code",
   "execution_count": 61,
   "id": "81ffdf6d",
   "metadata": {},
   "outputs": [
    {
     "data": {
      "text/html": [
       "<div>\n",
       "<style scoped>\n",
       "    .dataframe tbody tr th:only-of-type {\n",
       "        vertical-align: middle;\n",
       "    }\n",
       "\n",
       "    .dataframe tbody tr th {\n",
       "        vertical-align: top;\n",
       "    }\n",
       "\n",
       "    .dataframe thead th {\n",
       "        text-align: right;\n",
       "    }\n",
       "</style>\n",
       "<table border=\"1\" class=\"dataframe\">\n",
       "  <thead>\n",
       "    <tr style=\"text-align: right;\">\n",
       "      <th></th>\n",
       "      <th>Feature</th>\n",
       "      <th>Coef</th>\n",
       "      <th>Corr</th>\n",
       "    </tr>\n",
       "  </thead>\n",
       "  <tbody>\n",
       "    <tr>\n",
       "      <th>14</th>\n",
       "      <td>Overall Qual</td>\n",
       "      <td>12286.621771</td>\n",
       "      <td>0.807849</td>\n",
       "    </tr>\n",
       "    <tr>\n",
       "      <th>13</th>\n",
       "      <td>Gr Liv Area</td>\n",
       "      <td>22689.791558</td>\n",
       "      <td>0.708777</td>\n",
       "    </tr>\n",
       "    <tr>\n",
       "      <th>10</th>\n",
       "      <td>Total Bsmt SF</td>\n",
       "      <td>6535.112747</td>\n",
       "      <td>0.668005</td>\n",
       "    </tr>\n",
       "    <tr>\n",
       "      <th>12</th>\n",
       "      <td>Garage Area</td>\n",
       "      <td>4927.751916</td>\n",
       "      <td>0.656497</td>\n",
       "    </tr>\n",
       "    <tr>\n",
       "      <th>11</th>\n",
       "      <td>Garage Cars</td>\n",
       "      <td>2434.954890</td>\n",
       "      <td>0.651267</td>\n",
       "    </tr>\n",
       "    <tr>\n",
       "      <th>9</th>\n",
       "      <td>Year Built</td>\n",
       "      <td>9538.024917</td>\n",
       "      <td>0.593996</td>\n",
       "    </tr>\n",
       "    <tr>\n",
       "      <th>8</th>\n",
       "      <td>Year Remod/Add</td>\n",
       "      <td>5079.236140</td>\n",
       "      <td>0.558451</td>\n",
       "    </tr>\n",
       "    <tr>\n",
       "      <th>7</th>\n",
       "      <td>Full Bath</td>\n",
       "      <td>-281.055539</td>\n",
       "      <td>0.524620</td>\n",
       "    </tr>\n",
       "    <tr>\n",
       "      <th>6</th>\n",
       "      <td>Mas Vnr Area</td>\n",
       "      <td>2374.559420</td>\n",
       "      <td>0.502671</td>\n",
       "    </tr>\n",
       "    <tr>\n",
       "      <th>5</th>\n",
       "      <td>Fireplaces</td>\n",
       "      <td>3415.904295</td>\n",
       "      <td>0.471008</td>\n",
       "    </tr>\n",
       "    <tr>\n",
       "      <th>33</th>\n",
       "      <td>NridgHt_neigh</td>\n",
       "      <td>2608.018311</td>\n",
       "      <td>0.463221</td>\n",
       "    </tr>\n",
       "    <tr>\n",
       "      <th>4</th>\n",
       "      <td>BsmtFin SF 1</td>\n",
       "      <td>9936.428216</td>\n",
       "      <td>0.460716</td>\n",
       "    </tr>\n",
       "    <tr>\n",
       "      <th>58</th>\n",
       "      <td>Gd_exter_qual</td>\n",
       "      <td>-25612.668560</td>\n",
       "      <td>0.459451</td>\n",
       "    </tr>\n",
       "    <tr>\n",
       "      <th>60</th>\n",
       "      <td>Attchd_gar_type</td>\n",
       "      <td>3410.731505</td>\n",
       "      <td>0.376915</td>\n",
       "    </tr>\n",
       "    <tr>\n",
       "      <th>83</th>\n",
       "      <td>VinylSd_ext_1st</td>\n",
       "      <td>0.000000</td>\n",
       "      <td>0.362551</td>\n",
       "    </tr>\n",
       "    <tr>\n",
       "      <th>46</th>\n",
       "      <td>60_subclass</td>\n",
       "      <td>-2092.359199</td>\n",
       "      <td>0.351521</td>\n",
       "    </tr>\n",
       "    <tr>\n",
       "      <th>3</th>\n",
       "      <td>Wood Deck SF</td>\n",
       "      <td>1219.939716</td>\n",
       "      <td>0.307249</td>\n",
       "    </tr>\n",
       "    <tr>\n",
       "      <th>2</th>\n",
       "      <td>Bsmt Full Bath</td>\n",
       "      <td>1678.524870</td>\n",
       "      <td>0.291705</td>\n",
       "    </tr>\n",
       "    <tr>\n",
       "      <th>90</th>\n",
       "      <td>Central Air</td>\n",
       "      <td>465.651740</td>\n",
       "      <td>0.282011</td>\n",
       "    </tr>\n",
       "    <tr>\n",
       "      <th>1</th>\n",
       "      <td>Half Bath</td>\n",
       "      <td>1411.888413</td>\n",
       "      <td>0.276884</td>\n",
       "    </tr>\n",
       "  </tbody>\n",
       "</table>\n",
       "</div>"
      ],
      "text/plain": [
       "            Feature          Coef      Corr\n",
       "14     Overall Qual  12286.621771  0.807849\n",
       "13      Gr Liv Area  22689.791558  0.708777\n",
       "10    Total Bsmt SF   6535.112747  0.668005\n",
       "12      Garage Area   4927.751916  0.656497\n",
       "11      Garage Cars   2434.954890  0.651267\n",
       "9        Year Built   9538.024917  0.593996\n",
       "8    Year Remod/Add   5079.236140  0.558451\n",
       "7         Full Bath   -281.055539  0.524620\n",
       "6      Mas Vnr Area   2374.559420  0.502671\n",
       "5        Fireplaces   3415.904295  0.471008\n",
       "33    NridgHt_neigh   2608.018311  0.463221\n",
       "4      BsmtFin SF 1   9936.428216  0.460716\n",
       "58    Gd_exter_qual -25612.668560  0.459451\n",
       "60  Attchd_gar_type   3410.731505  0.376915\n",
       "83  VinylSd_ext_1st      0.000000  0.362551\n",
       "46      60_subclass  -2092.359199  0.351521\n",
       "3      Wood Deck SF   1219.939716  0.307249\n",
       "2    Bsmt Full Bath   1678.524870  0.291705\n",
       "90      Central Air    465.651740  0.282011\n",
       "1         Half Bath   1411.888413  0.276884"
      ]
     },
     "execution_count": 61,
     "metadata": {},
     "output_type": "execute_result"
    }
   ],
   "source": [
    "df_coefs_correls_corrsort = df_coefs_correls.sort_values(by= 'Corr', ascending=False)\n",
    "df_coefs_correls_corrsort.head(20)"
   ]
  },
  {
   "cell_type": "markdown",
   "id": "01ed0ff6",
   "metadata": {},
   "source": [
    "#### We can see that the main determinants of Sale Price include overall quality, above ground living area, basement area, year built and year of remodelling, all of which have a high correlation to sale price and a high feature coefficient. This is largely as expected. \n",
    "\n",
    "#### Neighborhood is also important, with some of the most desirable areas being Stone Brook and Northridge Heights."
   ]
  },
  {
   "cell_type": "markdown",
   "id": "84ca37f0",
   "metadata": {},
   "source": [
    "#### Let's also see correlations and coefficients on a scatter chart. As we would expect the are fairly linear, with a few outliers."
   ]
  },
  {
   "cell_type": "code",
   "execution_count": 62,
   "id": "f8979d50",
   "metadata": {},
   "outputs": [
    {
     "data": {
      "text/plain": [
       "Text(0, 0.5, 'Correlation to Sale Price')"
      ]
     },
     "execution_count": 62,
     "metadata": {},
     "output_type": "execute_result"
    },
    {
     "data": {
      "image/png": "[encoded data removed]",
      "text/plain": [
       "<Figure size 640x480 with 1 Axes>"
      ]
     },
     "metadata": {},
     "output_type": "display_data"
    }
   ],
   "source": [
    "plt.scatter(df_coefs_correls['Coef'], df_coefs_correls['Corr']);\n",
    "plt.title('Feature Coefficients vs Correlation to Sale Price')\n",
    "plt.xlabel('Feature Coefficients')\n",
    "plt.ylabel('Correlation to Sale Price')"
   ]
  },
  {
   "cell_type": "code",
   "execution_count": null,
   "id": "1fc1c735",
   "metadata": {},
   "outputs": [],
   "source": []
  },
  {
   "cell_type": "code",
   "execution_count": null,
   "id": "202e6132",
   "metadata": {},
   "outputs": [],
   "source": []
  }
 ],
 "metadata": {
  "kernelspec": {
   "display_name": "Python 3 (ipykernel)",
   "language": "python",
   "name": "python3"
  },
  "language_info": {
   "codemirror_mode": {
    "name": "ipython",
    "version": 3
   },
   "file_extension": ".py",
   "mimetype": "text/x-python",
   "name": "python",
   "nbconvert_exporter": "python",
   "pygments_lexer": "ipython3",
   "version": "3.9.13"
  }
 },
 "nbformat": 4,
 "nbformat_minor": 5
}
